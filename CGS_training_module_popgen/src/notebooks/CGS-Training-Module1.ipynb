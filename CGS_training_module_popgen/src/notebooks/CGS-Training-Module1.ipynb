{
 "cells": [
  {
   "cell_type": "markdown",
   "metadata": {
    "slideshow": {
     "slide_type": "-"
    }
   },
   "source": [
    "#                                          Training module\n",
    "    ###################################################################################\n",
    "    # Genomic molecular characterization for viral strains using informatics tools    #\n",
    "    # CGS, USAMRIID                                                                   #\n",
    "    # Authors: Raina Kumar (code and training module pipeline),                       #\n",
    "    #          Joushua Richardson (documentation and presentations)                   #\n",
    "    # Contact: raina.kumar.ctr@mail.mil                                               #\n",
    "    ###################################################################################\n",
    " \n",
    " ## Objective\n",
    " \n",
    "    The training module will provide the complete bioinformatics workflow for analyzing genomics data using open source tools. The training module uses sequence reads generated using genomics tools such as genomic DNA or RNA sequencing using next generation sequencing technology with objective of characterization of viral strains in outbreak setting.\n",
    " "
   ]
  },
  {
   "cell_type": "code",
   "execution_count": null,
   "metadata": {
    "scrolled": true
   },
   "outputs": [],
   "source": [
    "## Next Generation sequencing Introduction to genome assembly \n",
    "\n",
    "from IPython.display import IFrame\n",
    "IFrame('../docs/final_pdfs/1_training_mod_013120_intro.pdf', width=900, height=300)\n",
    "\n"
   ]
  },
  {
   "cell_type": "code",
   "execution_count": null,
   "metadata": {},
   "outputs": [],
   "source": [
    "## Introduction to genomics assembly workflow \n",
    "from IPython.display import IFrame\n",
    "IFrame('../docs/final_pdfs/2_training_mod_013120_AssemblyPipe.pdf', width=900, height=300)"
   ]
  },
  {
   "cell_type": "code",
   "execution_count": null,
   "metadata": {},
   "outputs": [],
   "source": [
    "# Step 1 \n",
    "# Define paths for input base directory, work directory and result directory in config.yaml for any new datasets\n",
    "# \n",
    "\n",
    "base_dir =\"../../data/example_data/\"\n",
    "work_dir  = \"../../data/example_data/\"\n",
    "result_dir = \"../../data/example_data/results/\"\n",
    "srefindex=\"/../../data/example_data/seqindex/\"\n",
    "sreference=\"../../data/example_data/references/GCF_000848505.1_ViralProj14703_genomic.fna\"\n",
    "pri_adaptors=\"../../data/example_data/references/pri_adaptors.fa\"\n",
    "\n"
   ]
  },
  {
   "cell_type": "code",
   "execution_count": null,
   "metadata": {},
   "outputs": [],
   "source": [
    "## Step 2\n",
    "\n",
    "##Run following:\n",
    "##\n",
    "## shell command\n",
    "## For paired end data\n",
    "##   test fastqc read.R1_001.fastq.gz read.R2_001.fastq.gz -f fastq -o results/fastqc > log.txt\n",
    "\n",
    "from IPython.display import IFrame\n",
    "IFrame('../docs/final_pdfs/3_training_mod_013120__Fastqc.pdf', width=900, height=300)"
   ]
  },
  {
   "cell_type": "code",
   "execution_count": null,
   "metadata": {
    "scrolled": false
   },
   "outputs": [],
   "source": [
    "## Run Step 2\n",
    "\n",
    "!snakemake --cores all -s \"../snakemake/popgen_fastqc.smk\""
   ]
  },
  {
   "cell_type": "code",
   "execution_count": null,
   "metadata": {
    "scrolled": false
   },
   "outputs": [],
   "source": [
    "# Step 2 Fastqc results\n",
    "from IPython.display import FileLink, FileLinks\n",
    "FileLinks('../../data/example_data/results/fastqc/.')\n"
   ]
  },
  {
   "cell_type": "code",
   "execution_count": null,
   "metadata": {},
   "outputs": [],
   "source": [
    "# Step 3\n",
    "## Trimming the bait illumina adaptors and primers from Illumina sequencing protocol using tool trimmomatic  \n",
    "\n",
    "## \n",
    "## shell command\n",
    "## For Paired end data\n",
    "# \"time java -jar trimmomatic-0.33.jar PE -threads 3 -trimlog logprefix input.read.R1_001.fastq.gz input.read.R2_001.fastq.gz out.read.paired.R1.fastq out.read.unpaired.R1.fastq out.fastq.paired.R2.fastq out.fastq.unpaired.R2.fastq ILLUMINACLIP:input.primer.adaptor.fa:2:30:10 LEADING:3 TRAILING:3 SLIDINGWINDOW:4:15 MINLEN:30\"\n",
    "##\n",
    "\n",
    "\n",
    "from IPython.display import IFrame\n",
    "IFrame('../docs/final_pdfs/4_training_mod_013120__Trimv2.pdf', width=900, height=300)\n"
   ]
  },
  {
   "cell_type": "code",
   "execution_count": null,
   "metadata": {},
   "outputs": [],
   "source": [
    "# Step 3 Run Trimmomatic on sequence reads using snakemake rule trimmomatics\n",
    "\n",
    "!snakemake --cores all -s \"../snakemake/popgen_trimmomatics.smk\"\n"
   ]
  },
  {
   "cell_type": "code",
   "execution_count": null,
   "metadata": {},
   "outputs": [],
   "source": [
    "# Sequence read summary after trimming adaptors and primers\n",
    "\n",
    "# Reports\n",
    "\n",
    "from IPython.display import FileLink, FileLinks\n",
    "FileLinks('../../data/example_data/results/primer_adapt_removed/.')\n"
   ]
  },
  {
   "cell_type": "code",
   "execution_count": null,
   "metadata": {},
   "outputs": [],
   "source": [
    "# Step 4 \n",
    "\n",
    "## Reference mapping for Read correction\n",
    "## Align reads to makona viral genome assembly fasta file\n",
    "\n",
    "## Shell command\n",
    "## time bwa mem -t 30 makona/references/GCF_000848505.1_ViralProj14703_genomic.fna input.read.1.fastq input.read.2.fastq > sample1.assembly_align_mem_ref.sam\n",
    "\n",
    "\n",
    "\n",
    "from IPython.display import IFrame\n",
    "IFrame('../docs/final_pdfs/5_training_mod_013120__Alignment.pdf', width=900, height=300)\n"
   ]
  },
  {
   "cell_type": "code",
   "execution_count": null,
   "metadata": {
    "scrolled": false
   },
   "outputs": [],
   "source": [
    "# Run step 4 for reference mapping for read correction using snakemake rule refmapsam\n",
    "\n",
    "!snakemake --cores all -s \"../snakemake/popgen_refmapsam.smk\""
   ]
  },
  {
   "cell_type": "code",
   "execution_count": null,
   "metadata": {},
   "outputs": [],
   "source": [
    "# Output from reference mapping\n",
    "from IPython.display import FileLink, FileLinks\n",
    "FileLinks('../../data/example_data/results/ref_aligned/')\n"
   ]
  },
  {
   "cell_type": "code",
   "execution_count": null,
   "metadata": {},
   "outputs": [],
   "source": [
    "## Step 5\n",
    "\n",
    "## Sort sam file and convert to bam format file using samtools software\n",
    "## Shell command:\n",
    "## \"time samtools sort -O BAM makona.aligned.mem.sam > sample1.assembly_align_mem_ref_sorted.bam\"\n"
   ]
  },
  {
   "cell_type": "code",
   "execution_count": null,
   "metadata": {
    "scrolled": true
   },
   "outputs": [],
   "source": [
    "!snakemake --cores all -s \"../snakemake/popgen_samsort2bam.smk\""
   ]
  },
  {
   "cell_type": "code",
   "execution_count": null,
   "metadata": {},
   "outputs": [],
   "source": [
    "# Output from reference mapping\n",
    "\n",
    "\n",
    "from IPython.display import FileLink, FileLinks\n",
    "FileLinks('../../data/example_data/results/ref_aligned/.')\n",
    "\n"
   ]
  },
  {
   "cell_type": "code",
   "execution_count": null,
   "metadata": {
    "scrolled": true
   },
   "outputs": [],
   "source": [
    "# Step 6\n",
    "\n",
    "## Reference Guided Assembly graph using velvet assembler\n",
    "\n",
    "## Shell Command:\n",
    "## \"time velveth out.assembly.dir input.kmernumber -bam -longPaired {output.assembly.dir\"\n",
    "\n",
    "\n",
    "from IPython.display import IFrame\n",
    "IFrame('../docs/final_pdfs/5_training_mod_013120__Alignmentv2.pdf', width=900, height=300)\n",
    "    "
   ]
  },
  {
   "cell_type": "code",
   "execution_count": null,
   "metadata": {
    "scrolled": true
   },
   "outputs": [],
   "source": [
    "!snakemake --cores all -s \"../snakemake/popgen_assembly.smk\""
   ]
  },
  {
   "cell_type": "code",
   "execution_count": null,
   "metadata": {},
   "outputs": [],
   "source": [
    "# Output from reference mapping\n",
    "\n",
    "\n",
    "from IPython.display import FileLink, FileLinks\n",
    "FileLinks('makona/results/velvet_assembly/')\n"
   ]
  },
  {
   "cell_type": "code",
   "execution_count": null,
   "metadata": {},
   "outputs": [],
   "source": [
    "# Step 7\n",
    "\n",
    "## Reference Guided Assembly map using velvet assembler\n",
    "## Shell Command:\n",
    "\n",
    "## \"time velvetg input.out.assembly.dir -amos_file yes > output.logfile\"\n",
    "\n",
    "\n",
    "from IPython.display import IFrame\n",
    "IFrame('../docs/final_pdfs/5_training_mod_013120__Alignmentv2.pdf', width=900, height=300)\n"
   ]
  },
  {
   "cell_type": "code",
   "execution_count": null,
   "metadata": {},
   "outputs": [],
   "source": [
    "\n",
    "!snakemake --cores all -s \"../snakemake/popgen_assembly_sgraph.smk\" \n"
   ]
  },
  {
   "cell_type": "code",
   "execution_count": null,
   "metadata": {},
   "outputs": [],
   "source": [
    "## Step 7 output\n",
    "## # Output from velvet assembly\n",
    "\n",
    "from IPython.display import FileLink, FileLinks\n",
    "FileLinks('makona/results/velvet_assembly/.')"
   ]
  },
  {
   "cell_type": "code",
   "execution_count": null,
   "metadata": {
    "scrolled": false
   },
   "outputs": [],
   "source": [
    "# Step 8\n",
    "\n",
    "## Assembly quality assesment stastics and gene prediction \n",
    "## Shell Command:\n",
    "\n",
    "## \"time quast.py step7.input.contig.fa -R chk.genome.fa -G chk.genome.gff -o out.assembly.stat.reports --glimmer > output.logfile\"\n",
    "\n",
    "\n",
    "from IPython.display import IFrame\n",
    "IFrame('../docs/final_pdfs/6_training_mod_013120__DraftQC.pdf', width=900, height=300)\n",
    "\n"
   ]
  },
  {
   "cell_type": "code",
   "execution_count": null,
   "metadata": {},
   "outputs": [],
   "source": [
    "\n",
    "!snakemake --cores all -s \"../snakemake/popgen_assembly_predictgene.smk\" -n"
   ]
  },
  {
   "cell_type": "code",
   "execution_count": null,
   "metadata": {},
   "outputs": [],
   "source": [
    "## Step 8 Assembly reports\n",
    "\n",
    "from IPython.display import HTML\n",
    "HTML(filename=\"../../data/example_data/results/assembl_stats/R4714bT_S2_L001_reference_stats/report.html\")\n",
    "\n"
   ]
  },
  {
   "cell_type": "code",
   "execution_count": null,
   "metadata": {},
   "outputs": [],
   "source": [
    "# Step 9\n",
    "## Create index of contigs and map reads back to contig\n",
    "## Shell command: \n",
    "\n",
    "## \"time bwa index -a bwtsw step7.input.contig.fa > output.logfile\"\n",
    "\n",
    "from IPython.display import IFrame\n",
    "IFrame('../docs/final_pdfs/7_training_mod_013120__Polishv2.pdf', width=900, height=300)\n",
    "\n"
   ]
  },
  {
   "cell_type": "code",
   "execution_count": null,
   "metadata": {},
   "outputs": [],
   "source": [
    "\n",
    "!snakemake --cores all -s \"../snakemake/popgen_bwaindex_contig.smk\" -n"
   ]
  },
  {
   "cell_type": "code",
   "execution_count": null,
   "metadata": {},
   "outputs": [],
   "source": [
    "# Step 10\n",
    "## \"time bwa mem -t 30 step8.input.contig.fa {input.read1p} {input.read2p} > {output.contigalign}\""
   ]
  },
  {
   "cell_type": "code",
   "execution_count": null,
   "metadata": {},
   "outputs": [],
   "source": [
    "\n",
    "\n",
    "!snakemake --cores all -s \"../snakemake/popgen_alignreads2contig.smk\" -n"
   ]
  },
  {
   "cell_type": "code",
   "execution_count": null,
   "metadata": {},
   "outputs": [],
   "source": [
    "# Step 11\n",
    "## Coordinate sort sam files and convert to bam file using samtools\n"
   ]
  },
  {
   "cell_type": "code",
   "execution_count": null,
   "metadata": {},
   "outputs": [],
   "source": [
    "\n",
    "!snakemake --cores all -s \"../snakemake/popgen_sortSAM.smk\" -n"
   ]
  },
  {
   "cell_type": "code",
   "execution_count": null,
   "metadata": {},
   "outputs": [],
   "source": [
    "# Step 12\n",
    "\n",
    "## \"time samtools faidx configs.fa > output.logfile\"\n",
    "!snakemake --cores all -s \"../snakemake/popgen_reindexContig.smk\" -n\n"
   ]
  },
  {
   "cell_type": "code",
   "execution_count": null,
   "metadata": {},
   "outputs": [],
   "source": [
    "# Step 13\n",
    "\n",
    "## Variant Calling using samtools mpileup\n",
    "\n",
    "## Shell Command:\n",
    "\n",
    "## \"time samtools mpileup -u -g -f step8.input.contig.fa step11.contig.read.sorted.aligned.bam | bcftools call -v -m -O z -o output.mpileup.vcf.gz > output.logfile\"\n",
    "\n",
    "\n",
    "from IPython.display import IFrame\n",
    "IFrame('../docs/command_pdfs/training_mod_Draft_Sl39.pdf', width=900, height=300)"
   ]
  },
  {
   "cell_type": "code",
   "execution_count": null,
   "metadata": {},
   "outputs": [],
   "source": [
    "!snakemake --cores all -s \"../snakemake/popgen_variantsCall.smk\" -n"
   ]
  },
  {
   "cell_type": "code",
   "execution_count": null,
   "metadata": {},
   "outputs": [],
   "source": [
    "## Reports\n",
    "\n",
    "from IPython.display import FileLink, FileLinks\n",
    "FileLinks('../../data/example_data/results/variants_calling/.')\n"
   ]
  },
  {
   "cell_type": "code",
   "execution_count": null,
   "metadata": {},
   "outputs": [],
   "source": [
    "!snakemake --cores all -s \"../snakemake/popgen_vcfindex.smk\" -n"
   ]
  },
  {
   "cell_type": "code",
   "execution_count": null,
   "metadata": {},
   "outputs": [],
   "source": [
    "# Step 15\n",
    "\n",
    "## Build sequences consensus\n",
    "\n",
    "## Shell Command:\n",
    "\n",
    "## \"time cat step8.input.contig.fa | bcftools consensus output.mpileup.vcf.gz > output.consensus.fa\n",
    "\n"
   ]
  },
  {
   "cell_type": "code",
   "execution_count": null,
   "metadata": {},
   "outputs": [],
   "source": [
    "\n",
    "!snakemake --cores all -s \"../snakemake/popgen_buildConsensus.smk\" -n\n",
    "\n"
   ]
  },
  {
   "cell_type": "code",
   "execution_count": null,
   "metadata": {},
   "outputs": [],
   "source": [
    "## Reports\n",
    "\n",
    "from IPython.display import FileLink, FileLinks\n",
    "FileLinks('../../results/consensus_seq/.')"
   ]
  },
  {
   "cell_type": "code",
   "execution_count": null,
   "metadata": {},
   "outputs": [],
   "source": [
    "# Step 16\n",
    "\n",
    "## Consensus muliple alignment \n",
    "\n",
    "## Shell Command:\n",
    "\n",
    "## cat final_assembly.fasta | mafft ebola_ref.fasta > Final_alignment.out\n",
    "\n",
    "\n",
    "from IPython.display import IFrame\n",
    "IFrame('../docs/final_pdfs/8_training_mod_013120__GenAlignv3.pdf', width=900, height=300)\n",
    "\n"
   ]
  },
  {
   "cell_type": "code",
   "execution_count": null,
   "metadata": {},
   "outputs": [],
   "source": [
    "!snakemake --cores all -s \"../snakemake/popgen_maff_alignment_view.smk\"\n",
    "\n",
    "\n"
   ]
  },
  {
   "cell_type": "code",
   "execution_count": null,
   "metadata": {},
   "outputs": [],
   "source": [
    "## View MSA alignment\n",
    "\n",
    "library(shiny)\n",
    "runApp()\n"
   ]
  },
  {
   "cell_type": "code",
   "execution_count": null,
   "metadata": {},
   "outputs": [],
   "source": [
    "## Reports\n",
    "\n",
    "from IPython.display import FileLink, FileLinks\n",
    "FileLinks('../../data/example_data/results/maff_haplo/.')"
   ]
  },
  {
   "cell_type": "code",
   "execution_count": null,
   "metadata": {},
   "outputs": [],
   "source": [
    "\n",
    "## Shell Command:\n",
    "# \"time bcftools stats -F step8.input.contig.fa -s step11.output.mpileup.vcf.gz > output.variants.stat\"\n",
    "\n",
    "!snakemake --cores all -s \"../snakemake/popgen_variants_stat.smk\" -n"
   ]
  },
  {
   "cell_type": "code",
   "execution_count": null,
   "metadata": {},
   "outputs": [],
   "source": [
    "## Reports\n",
    "\n",
    "from IPython.display import FileLink, FileLinks\n",
    "FileLinks('../../data/example_data/results/variants_stats/.')\n",
    "\n"
   ]
  },
  {
   "cell_type": "code",
   "execution_count": null,
   "metadata": {},
   "outputs": [],
   "source": [
    "!head -100 makona/results/variants_stats/Brett424_1_S4_L001_vcf.stats"
   ]
  },
  {
   "cell_type": "code",
   "execution_count": null,
   "metadata": {},
   "outputs": [],
   "source": [
    "## Haplotype network and SNP analysis\n",
    "\n",
    "## Shell\n",
    "\n",
    "!snakemake --cores all -s \"../snakemake/popgen_haplonetwork.smk\"\n"
   ]
  },
  {
   "cell_type": "code",
   "execution_count": null,
   "metadata": {},
   "outputs": [],
   "source": [
    "\n",
    "from IPython.display import IFrame\n",
    "IFrame('../docs/final_pdfs/9_training_mod_013120__HapNetv2.pdf', width=900, height=300)"
   ]
  },
  {
   "cell_type": "code",
   "execution_count": null,
   "metadata": {},
   "outputs": [],
   "source": [
    "## Reports\n",
    "\n",
    "from IPython.display import FileLink, FileLinks\n",
    "FileLinks('../../data/example_data/results/haplotype_network/')\n",
    "\n"
   ]
  },
  {
   "cell_type": "code",
   "execution_count": null,
   "metadata": {},
   "outputs": [],
   "source": [
    "from IPython.display import HTML\n",
    "HTML(filename=\"../rscripts/rscript_haplo.nb.html\")\n",
    "\n"
   ]
  },
  {
   "cell_type": "code",
   "execution_count": null,
   "metadata": {
    "scrolled": true
   },
   "outputs": [],
   "source": [
    "## References\n",
    "\n",
    "## Shell\n",
    "\n",
    "from IPython.display import IFrame\n",
    "IFrame('../docs/final_pdfs/10_training_mod_013120__CommandLine.pdf', width=900, height=300)"
   ]
  }
 ],
 "metadata": {
  "celltoolbar": "Edit Metadata",
  "kernelspec": {
   "display_name": "Python 3",
   "language": "python",
   "name": "python3"
  },
  "language_info": {
   "codemirror_mode": {
    "name": "ipython",
    "version": 3
   },
   "file_extension": ".py",
   "mimetype": "text/x-python",
   "name": "python",
   "nbconvert_exporter": "python",
   "pygments_lexer": "ipython3",
   "version": "3.6.10"
  }
 },
 "nbformat": 4,
 "nbformat_minor": 4
}
